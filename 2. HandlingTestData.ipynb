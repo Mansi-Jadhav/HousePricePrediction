{
 "cells": [
  {
   "cell_type": "code",
   "execution_count": 32,
   "id": "0933221c",
   "metadata": {},
   "outputs": [],
   "source": [
    "import numpy as np\n",
    "import pandas as pd\n",
    "import matplotlib.pyplot as plt\n",
    "import seaborn as sns"
   ]
  },
  {
   "cell_type": "code",
   "execution_count": 33,
   "id": "609846dc",
   "metadata": {},
   "outputs": [],
   "source": [
    "test = pd.read_csv('test.csv')"
   ]
  },
  {
   "cell_type": "code",
   "execution_count": 34,
   "id": "6e5dd9ec",
   "metadata": {},
   "outputs": [
    {
     "data": {
      "text/plain": [
       "(1459, 80)"
      ]
     },
     "execution_count": 34,
     "metadata": {},
     "output_type": "execute_result"
    }
   ],
   "source": [
    "test.shape        # Does not have SalePrice"
   ]
  },
  {
   "cell_type": "code",
   "execution_count": 35,
   "id": "972098b3",
   "metadata": {},
   "outputs": [
    {
     "data": {
      "text/plain": [
       "PoolQC          1456\n",
       "MiscFeature     1408\n",
       "Alley           1352\n",
       "Fence           1169\n",
       "FireplaceQu      730\n",
       "LotFrontage      227\n",
       "GarageCond        78\n",
       "GarageYrBlt       78\n",
       "GarageQual        78\n",
       "GarageFinish      78\n",
       "GarageType        76\n",
       "BsmtCond          45\n",
       "BsmtExposure      44\n",
       "BsmtQual          44\n",
       "BsmtFinType1      42\n",
       "BsmtFinType2      42\n",
       "MasVnrType        16\n",
       "MasVnrArea        15\n",
       "MSZoning           4\n",
       "BsmtFullBath       2\n",
       "BsmtHalfBath       2\n",
       "Functional         2\n",
       "Utilities          2\n",
       "GarageCars         1\n",
       "GarageArea         1\n",
       "TotalBsmtSF        1\n",
       "KitchenQual        1\n",
       "BsmtUnfSF          1\n",
       "BsmtFinSF2         1\n",
       "BsmtFinSF1         1\n",
       "Exterior2nd        1\n",
       "Exterior1st        1\n",
       "SaleType           1\n",
       "dtype: int64"
      ]
     },
     "execution_count": 35,
     "metadata": {},
     "output_type": "execute_result"
    }
   ],
   "source": [
    "test[test.columns[test.isnull().any()]].isnull().sum().sort_values(ascending=False)"
   ]
  },
  {
   "cell_type": "code",
   "execution_count": 36,
   "id": "7a6cc726",
   "metadata": {},
   "outputs": [],
   "source": [
    "test.drop(['PoolQC','MiscFeature','Alley','Fence'], axis=1, inplace=True)"
   ]
  },
  {
   "cell_type": "code",
   "execution_count": 37,
   "id": "df7f382f",
   "metadata": {},
   "outputs": [
    {
     "data": {
      "text/plain": [
       "(1459, 76)"
      ]
     },
     "execution_count": 37,
     "metadata": {},
     "output_type": "execute_result"
    }
   ],
   "source": [
    "test.shape"
   ]
  },
  {
   "cell_type": "code",
   "execution_count": 38,
   "id": "a9186538",
   "metadata": {},
   "outputs": [],
   "source": [
    "test['LotFrontage'] = test['LotFrontage'].fillna(test['LotFrontage'].mean())"
   ]
  },
  {
   "cell_type": "code",
   "execution_count": 39,
   "id": "c3326767",
   "metadata": {},
   "outputs": [],
   "source": [
    "test['FireplaceQu'] = test['FireplaceQu'].fillna(test['FireplaceQu'].mode()[0])"
   ]
  },
  {
   "cell_type": "code",
   "execution_count": 40,
   "id": "00a24196",
   "metadata": {},
   "outputs": [],
   "source": [
    "GarageData = ['GarageType', 'GarageFinish', 'GarageQual', 'GarageCond']\n",
    "test[GarageData] = test[GarageData].fillna('None')\n",
    "test['GarageYrBlt'] = test['GarageType'].fillna(0)"
   ]
  },
  {
   "cell_type": "code",
   "execution_count": 41,
   "id": "149d4767",
   "metadata": {},
   "outputs": [],
   "source": [
    "BasementData = ['BsmtExposure', 'BsmtFinType2', 'BsmtFinType1', 'BsmtCond', 'BsmtQual']\n",
    "test[BasementData] = test[BasementData].fillna('None')"
   ]
  },
  {
   "cell_type": "code",
   "execution_count": 42,
   "id": "26933459",
   "metadata": {},
   "outputs": [],
   "source": [
    "test['MasVnrArea'] = test['MasVnrArea'].fillna(test['MasVnrArea'].mean())"
   ]
  },
  {
   "cell_type": "code",
   "execution_count": 43,
   "id": "02c56b04",
   "metadata": {},
   "outputs": [],
   "source": [
    "test['MasVnrType'] = test['MasVnrType'].fillna(test['MasVnrType'].mode()[0])"
   ]
  },
  {
   "cell_type": "code",
   "execution_count": 44,
   "id": "494a2ba2",
   "metadata": {},
   "outputs": [],
   "source": [
    "test['Electrical'] = test['Electrical'].fillna(test['Electrical'].mode()[0])"
   ]
  },
  {
   "cell_type": "code",
   "execution_count": 45,
   "id": "fcf38126",
   "metadata": {},
   "outputs": [
    {
     "data": {
      "text/plain": [
       "MSZoning        4\n",
       "Utilities       2\n",
       "BsmtFullBath    2\n",
       "BsmtHalfBath    2\n",
       "Functional      2\n",
       "Exterior1st     1\n",
       "Exterior2nd     1\n",
       "BsmtFinSF1      1\n",
       "BsmtFinSF2      1\n",
       "BsmtUnfSF       1\n",
       "TotalBsmtSF     1\n",
       "KitchenQual     1\n",
       "GarageCars      1\n",
       "GarageArea      1\n",
       "SaleType        1\n",
       "dtype: int64"
      ]
     },
     "execution_count": 45,
     "metadata": {},
     "output_type": "execute_result"
    }
   ],
   "source": [
    "test[test.columns[test.isnull().any()]].isnull().sum().sort_values(ascending=False)"
   ]
  },
  {
   "cell_type": "code",
   "execution_count": 46,
   "id": "c1ccaee1",
   "metadata": {},
   "outputs": [],
   "source": [
    "def fillmode(cols):\n",
    "    df = test\n",
    "    for col in cols:\n",
    "        df[col]=df[col].fillna(df[col].mode()[0])"
   ]
  },
  {
   "cell_type": "code",
   "execution_count": 47,
   "id": "9ff13ffa",
   "metadata": {},
   "outputs": [],
   "source": [
    "obj_cols=['MSZoning', 'Utilities', 'Functional', 'Exterior1st', 'Exterior2nd', 'KitchenQual', 'SaleType']\n",
    "fillmode(obj_cols)"
   ]
  },
  {
   "cell_type": "code",
   "execution_count": 48,
   "id": "bce0ae0d",
   "metadata": {},
   "outputs": [],
   "source": [
    "def fillmean(cols):\n",
    "    df = test\n",
    "    for col in cols:\n",
    "        df[col]=df[col].fillna(df[col].mean())"
   ]
  },
  {
   "cell_type": "code",
   "execution_count": 49,
   "id": "869207c4",
   "metadata": {},
   "outputs": [],
   "source": [
    "int_cols=['BsmtFullBath', 'BsmtHalfBath', 'BsmtFinSF1', 'BsmtFinSF2', 'BsmtUnfSF', 'TotalBsmtSF', 'GarageCars', 'GarageArea']\n",
    "fillmean(int_cols)"
   ]
  },
  {
   "cell_type": "code",
   "execution_count": 50,
   "id": "cd1b5aff",
   "metadata": {},
   "outputs": [
    {
     "data": {
      "text/plain": [
       "Series([], dtype: float64)"
      ]
     },
     "execution_count": 50,
     "metadata": {},
     "output_type": "execute_result"
    }
   ],
   "source": [
    "test[test.columns[test.isnull().any()]].isnull().sum().sort_values(ascending=False) # No more null columns"
   ]
  },
  {
   "cell_type": "code",
   "execution_count": 51,
   "id": "623071f2",
   "metadata": {},
   "outputs": [],
   "source": [
    "test.drop('Id', axis=1, inplace=True)"
   ]
  },
  {
   "cell_type": "code",
   "execution_count": 52,
   "id": "d4bbc2b6",
   "metadata": {},
   "outputs": [],
   "source": [
    "# After this we can concatenate both train and test sets and then go for one hot encoding"
   ]
  },
  {
   "cell_type": "code",
   "execution_count": 53,
   "id": "22e58d4d",
   "metadata": {},
   "outputs": [],
   "source": [
    "test.to_csv('test_no_missing.csv', index=False)"
   ]
  },
  {
   "cell_type": "code",
   "execution_count": 54,
   "id": "c6136af7",
   "metadata": {},
   "outputs": [
    {
     "data": {
      "text/plain": [
       "(1459, 75)"
      ]
     },
     "execution_count": 54,
     "metadata": {},
     "output_type": "execute_result"
    }
   ],
   "source": [
    "test.shape"
   ]
  },
  {
   "cell_type": "code",
   "execution_count": null,
   "id": "b1d77ce8",
   "metadata": {},
   "outputs": [],
   "source": []
  }
 ],
 "metadata": {
  "kernelspec": {
   "display_name": "Python 3 (ipykernel)",
   "language": "python",
   "name": "python3"
  },
  "language_info": {
   "codemirror_mode": {
    "name": "ipython",
    "version": 3
   },
   "file_extension": ".py",
   "mimetype": "text/x-python",
   "name": "python",
   "nbconvert_exporter": "python",
   "pygments_lexer": "ipython3",
   "version": "3.9.7"
  }
 },
 "nbformat": 4,
 "nbformat_minor": 5
}
