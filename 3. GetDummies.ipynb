{
 "cells": [
  {
   "cell_type": "code",
   "execution_count": 2,
   "id": "05386ccf",
   "metadata": {},
   "outputs": [],
   "source": [
    "import numpy as np\n",
    "import pandas as pd\n",
    "import matplotlib.pyplot as plt\n",
    "import seaborn as sns"
   ]
  },
  {
   "cell_type": "code",
   "execution_count": 3,
   "id": "bc5989b8",
   "metadata": {},
   "outputs": [],
   "source": [
    "train_df = pd.read_csv('train_no_missing.csv')"
   ]
  },
  {
   "cell_type": "code",
   "execution_count": 4,
   "id": "2fdd133e",
   "metadata": {},
   "outputs": [],
   "source": [
    "test_df = pd.read_csv('test_no_missing.csv')"
   ]
  },
  {
   "cell_type": "code",
   "execution_count": 5,
   "id": "73c5a1bf",
   "metadata": {},
   "outputs": [
    {
     "data": {
      "text/plain": [
       "(1460, 77)"
      ]
     },
     "execution_count": 5,
     "metadata": {},
     "output_type": "execute_result"
    }
   ],
   "source": [
    "train_df.shape"
   ]
  },
  {
   "cell_type": "code",
   "execution_count": 6,
   "id": "08e3e0ba",
   "metadata": {},
   "outputs": [
    {
     "data": {
      "text/plain": [
       "(1459, 75)"
      ]
     },
     "execution_count": 6,
     "metadata": {},
     "output_type": "execute_result"
    }
   ],
   "source": [
    "test_df.shape"
   ]
  },
  {
   "cell_type": "code",
   "execution_count": 7,
   "id": "b60a5836",
   "metadata": {},
   "outputs": [],
   "source": [
    "train_df = train_df.drop(['Id', 'SalePrice'], axis=1)"
   ]
  },
  {
   "cell_type": "code",
   "execution_count": 8,
   "id": "5b179a53",
   "metadata": {},
   "outputs": [
    {
     "data": {
      "text/plain": [
       "(1460, 75)"
      ]
     },
     "execution_count": 8,
     "metadata": {},
     "output_type": "execute_result"
    }
   ],
   "source": [
    "train_df.shape"
   ]
  },
  {
   "cell_type": "code",
   "execution_count": 9,
   "id": "4b717529",
   "metadata": {},
   "outputs": [],
   "source": [
    "final_df = pd.concat([train_df,test_df], axis=0)"
   ]
  },
  {
   "cell_type": "code",
   "execution_count": 10,
   "id": "41d36fee",
   "metadata": {},
   "outputs": [
    {
     "data": {
      "text/plain": [
       "(2919, 75)"
      ]
     },
     "execution_count": 10,
     "metadata": {},
     "output_type": "execute_result"
    }
   ],
   "source": [
    "final_df.shape"
   ]
  },
  {
   "cell_type": "code",
   "execution_count": 11,
   "id": "eccadd11",
   "metadata": {},
   "outputs": [],
   "source": [
    "final_df = pd.get_dummies(final_df, drop_first=True)"
   ]
  },
  {
   "cell_type": "code",
   "execution_count": 12,
   "id": "1d45341c",
   "metadata": {},
   "outputs": [
    {
     "data": {
      "text/plain": [
       "(2919, 250)"
      ]
     },
     "execution_count": 12,
     "metadata": {},
     "output_type": "execute_result"
    }
   ],
   "source": [
    "final_df.shape"
   ]
  },
  {
   "cell_type": "code",
   "execution_count": 13,
   "id": "96905a69",
   "metadata": {},
   "outputs": [],
   "source": [
    "df_train = final_df.iloc[:1460, :]\n",
    "df_test = final_df.iloc[1460:, :]"
   ]
  },
  {
   "cell_type": "code",
   "execution_count": 14,
   "id": "ab2b9540",
   "metadata": {},
   "outputs": [
    {
     "data": {
      "text/plain": [
       "(1460, 250)"
      ]
     },
     "execution_count": 14,
     "metadata": {},
     "output_type": "execute_result"
    }
   ],
   "source": [
    "df_train.shape"
   ]
  },
  {
   "cell_type": "code",
   "execution_count": 15,
   "id": "8b17557d",
   "metadata": {},
   "outputs": [
    {
     "data": {
      "text/plain": [
       "(1459, 250)"
      ]
     },
     "execution_count": 15,
     "metadata": {},
     "output_type": "execute_result"
    }
   ],
   "source": [
    "df_test.shape"
   ]
  },
  {
   "cell_type": "code",
   "execution_count": 16,
   "id": "ebfea61f",
   "metadata": {},
   "outputs": [],
   "source": [
    "# We are going to deal with only df_train\n",
    "# df_test does not have a SalePrice column so we will have to submit it to Kaggle to get the results"
   ]
  },
  {
   "cell_type": "code",
   "execution_count": 17,
   "id": "41c12cd4",
   "metadata": {},
   "outputs": [],
   "source": [
    "df_train.to_csv('train_dummies.csv', index=False)\n",
    "df_test.to_csv('test_dummies.csv', index=False)"
   ]
  },
  {
   "cell_type": "code",
   "execution_count": null,
   "id": "7c784165",
   "metadata": {},
   "outputs": [],
   "source": []
  }
 ],
 "metadata": {
  "kernelspec": {
   "display_name": "Python 3 (ipykernel)",
   "language": "python",
   "name": "python3"
  },
  "language_info": {
   "codemirror_mode": {
    "name": "ipython",
    "version": 3
   },
   "file_extension": ".py",
   "mimetype": "text/x-python",
   "name": "python",
   "nbconvert_exporter": "python",
   "pygments_lexer": "ipython3",
   "version": "3.10.9"
  }
 },
 "nbformat": 4,
 "nbformat_minor": 5
}
