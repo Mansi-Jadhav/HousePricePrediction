{
 "cells": [
  {
   "cell_type": "code",
   "execution_count": 1,
   "id": "94fdcf41",
   "metadata": {},
   "outputs": [],
   "source": [
    "# Polynomial Regression\n",
    "# We cannot go for polynomial regression directly on the categorical features, we need to convert them to integers first\n",
    "# But if we go for polynomial features on get dummies, the dimensionality of the dataset would increase widely\n",
    "# We must go for feature selection - Using main dataset"
   ]
  },
  {
   "cell_type": "code",
   "execution_count": 2,
   "id": "9f603a33",
   "metadata": {},
   "outputs": [],
   "source": [
    "import numpy as np\n",
    "import pandas as pd\n",
    "import matplotlib.pyplot as plt\n",
    "import seaborn as sns"
   ]
  },
  {
   "cell_type": "code",
   "execution_count": 3,
   "id": "a64d7edc",
   "metadata": {},
   "outputs": [],
   "source": [
    "df = pd.read_csv('train_no_missing.csv')"
   ]
  },
  {
   "cell_type": "code",
   "execution_count": 4,
   "id": "9906aebe",
   "metadata": {},
   "outputs": [
    {
     "data": {
      "text/plain": [
       "(1460, 77)"
      ]
     },
     "execution_count": 4,
     "metadata": {},
     "output_type": "execute_result"
    }
   ],
   "source": [
    "df.shape"
   ]
  },
  {
   "cell_type": "code",
   "execution_count": 5,
   "id": "d7e50893",
   "metadata": {},
   "outputs": [
    {
     "data": {
      "text/plain": [
       "SalePrice        1.000000\n",
       "OverallQual      0.790982\n",
       "GrLivArea        0.708624\n",
       "GarageCars       0.640409\n",
       "GarageArea       0.623431\n",
       "TotalBsmtSF      0.613581\n",
       "1stFlrSF         0.605852\n",
       "FullBath         0.560664\n",
       "TotRmsAbvGrd     0.533723\n",
       "YearBuilt        0.522897\n",
       "YearRemodAdd     0.507101\n",
       "MasVnrArea       0.475241\n",
       "Fireplaces       0.466929\n",
       "BsmtFinSF1       0.386420\n",
       "LotFrontage      0.334901\n",
       "WoodDeckSF       0.324413\n",
       "2ndFlrSF         0.319334\n",
       "OpenPorchSF      0.315856\n",
       "HalfBath         0.284108\n",
       "LotArea          0.263843\n",
       "BsmtFullBath     0.227122\n",
       "BsmtUnfSF        0.214479\n",
       "BedroomAbvGr     0.168213\n",
       "ScreenPorch      0.111447\n",
       "PoolArea         0.092404\n",
       "MoSold           0.046432\n",
       "3SsnPorch        0.044584\n",
       "BsmtFinSF2      -0.011378\n",
       "BsmtHalfBath    -0.016844\n",
       "MiscVal         -0.021190\n",
       "Id              -0.021917\n",
       "LowQualFinSF    -0.025606\n",
       "YrSold          -0.028923\n",
       "OverallCond     -0.077856\n",
       "MSSubClass      -0.084284\n",
       "EnclosedPorch   -0.128578\n",
       "KitchenAbvGr    -0.135907\n",
       "Name: SalePrice, dtype: float64"
      ]
     },
     "execution_count": 5,
     "metadata": {},
     "output_type": "execute_result"
    }
   ],
   "source": [
    "df.corr()['SalePrice'].sort_values(ascending=False)"
   ]
  },
  {
   "cell_type": "code",
   "execution_count": 6,
   "id": "17cba229",
   "metadata": {},
   "outputs": [],
   "source": [
    "# Let's use only those features which have more than 30% correlation with SalePrice\n",
    "# Notice that all are integer features"
   ]
  },
  {
   "cell_type": "code",
   "execution_count": 7,
   "id": "2f8cdf5d",
   "metadata": {},
   "outputs": [],
   "source": [
    "feature_df = df[['OverallQual', 'GrLivArea', 'GarageCars', 'GarageArea', 'TotalBsmtSF', '1stFlrSF', 'FullBath', 'TotRmsAbvGrd',\n",
    "                'YearBuilt', 'YearRemodAdd', 'MasVnrArea', 'Fireplaces', 'BsmtFinSF1', 'LotFrontage', 'WoodDeckSF', \n",
    "                '2ndFlrSF', 'OpenPorchSF']]"
   ]
  },
  {
   "cell_type": "code",
   "execution_count": 8,
   "id": "e7c82e8a",
   "metadata": {},
   "outputs": [],
   "source": [
    "from sklearn.preprocessing import PolynomialFeatures"
   ]
  },
  {
   "cell_type": "code",
   "execution_count": 9,
   "id": "da0fd1e0",
   "metadata": {},
   "outputs": [],
   "source": [
    "poly_converter = PolynomialFeatures(degree=3, include_bias=False)"
   ]
  },
  {
   "cell_type": "code",
   "execution_count": 10,
   "id": "9d12739d",
   "metadata": {},
   "outputs": [],
   "source": [
    "polynomial_features = poly_converter.fit_transform(feature_df)"
   ]
  },
  {
   "cell_type": "code",
   "execution_count": 11,
   "id": "105161fc",
   "metadata": {},
   "outputs": [
    {
     "data": {
      "text/plain": [
       "(1460, 1139)"
      ]
     },
     "execution_count": 11,
     "metadata": {},
     "output_type": "execute_result"
    }
   ],
   "source": [
    "polynomial_features.shape"
   ]
  },
  {
   "cell_type": "code",
   "execution_count": 12,
   "id": "03fce4f1",
   "metadata": {},
   "outputs": [],
   "source": [
    "from sklearn.model_selection import train_test_split"
   ]
  },
  {
   "cell_type": "code",
   "execution_count": 13,
   "id": "5c7dcc3e",
   "metadata": {},
   "outputs": [],
   "source": [
    "X_train, X_test, y_train, y_test = train_test_split(polynomial_features, df['SalePrice'], test_size=0.3, random_state=101)"
   ]
  },
  {
   "cell_type": "code",
   "execution_count": 14,
   "id": "54abfa28",
   "metadata": {},
   "outputs": [
    {
     "data": {
      "text/plain": [
       "(1022, 1139)"
      ]
     },
     "execution_count": 14,
     "metadata": {},
     "output_type": "execute_result"
    }
   ],
   "source": [
    "X_train.shape"
   ]
  },
  {
   "cell_type": "code",
   "execution_count": 15,
   "id": "1a69fe4d",
   "metadata": {},
   "outputs": [],
   "source": [
    "from sklearn.preprocessing import StandardScaler"
   ]
  },
  {
   "cell_type": "code",
   "execution_count": 16,
   "id": "9d8cf4ad",
   "metadata": {},
   "outputs": [],
   "source": [
    "scaler = StandardScaler()"
   ]
  },
  {
   "cell_type": "code",
   "execution_count": 17,
   "id": "9d314024",
   "metadata": {},
   "outputs": [
    {
     "data": {
      "text/plain": [
       "StandardScaler()"
      ]
     },
     "execution_count": 17,
     "metadata": {},
     "output_type": "execute_result"
    }
   ],
   "source": [
    "scaler.fit(X_train)"
   ]
  },
  {
   "cell_type": "code",
   "execution_count": 18,
   "id": "2336f717",
   "metadata": {},
   "outputs": [],
   "source": [
    "X_train = scaler.transform(X_train)\n",
    "X_test = scaler.transform(X_test)"
   ]
  },
  {
   "cell_type": "code",
   "execution_count": 19,
   "id": "32295b0d",
   "metadata": {},
   "outputs": [],
   "source": [
    "from sklearn.linear_model import Ridge,RidgeCV"
   ]
  },
  {
   "cell_type": "code",
   "execution_count": 20,
   "id": "a4f0663a",
   "metadata": {},
   "outputs": [],
   "source": [
    "ridge_cv_model = RidgeCV(alphas=(0.1, 1.0, 10.0))"
   ]
  },
  {
   "cell_type": "code",
   "execution_count": 21,
   "id": "8c0fc017",
   "metadata": {},
   "outputs": [
    {
     "data": {
      "text/plain": [
       "RidgeCV(alphas=array([ 0.1,  1. , 10. ]))"
      ]
     },
     "execution_count": 21,
     "metadata": {},
     "output_type": "execute_result"
    }
   ],
   "source": [
    "ridge_cv_model.fit(X_train, y_train)"
   ]
  },
  {
   "cell_type": "code",
   "execution_count": 22,
   "id": "9caa7dd4",
   "metadata": {},
   "outputs": [],
   "source": [
    "ridge_predictions = ridge_cv_model.predict(X_test)"
   ]
  },
  {
   "cell_type": "code",
   "execution_count": 23,
   "id": "67bf65a3",
   "metadata": {},
   "outputs": [],
   "source": [
    "from sklearn.metrics import mean_absolute_error, mean_squared_error"
   ]
  },
  {
   "cell_type": "code",
   "execution_count": 24,
   "id": "07fdb60e",
   "metadata": {},
   "outputs": [
    {
     "data": {
      "text/plain": [
       "20256.25819397551"
      ]
     },
     "execution_count": 24,
     "metadata": {},
     "output_type": "execute_result"
    }
   ],
   "source": [
    "mae = mean_absolute_error(y_test, ridge_predictions)\n",
    "mae"
   ]
  },
  {
   "cell_type": "code",
   "execution_count": 25,
   "id": "d4aa835b",
   "metadata": {},
   "outputs": [
    {
     "data": {
      "text/plain": [
       "33236.63877305249"
      ]
     },
     "execution_count": 25,
     "metadata": {},
     "output_type": "execute_result"
    }
   ],
   "source": [
    "rmse = np.sqrt(mean_squared_error(y_test, ridge_predictions))\n",
    "rmse"
   ]
  },
  {
   "cell_type": "code",
   "execution_count": 26,
   "id": "24fe5f7c",
   "metadata": {},
   "outputs": [
    {
     "data": {
      "text/plain": [
       "10.0"
      ]
     },
     "execution_count": 26,
     "metadata": {},
     "output_type": "execute_result"
    }
   ],
   "source": [
    "ridge_cv_model.alpha_"
   ]
  },
  {
   "cell_type": "code",
   "execution_count": 27,
   "id": "e25d0cb4",
   "metadata": {},
   "outputs": [],
   "source": [
    "# Since we haven't used a large number of features, the performance hasn't improved much compared to LR"
   ]
  },
  {
   "cell_type": "code",
   "execution_count": 28,
   "id": "1cdf6b8a",
   "metadata": {},
   "outputs": [],
   "source": [
    "df_test = pd.read_csv('test_no_missing.csv')[['OverallQual', 'GrLivArea', 'GarageCars', 'GarageArea', 'TotalBsmtSF', '1stFlrSF', 'FullBath', 'TotRmsAbvGrd', 'YearBuilt', 'YearRemodAdd', 'MasVnrArea', 'Fireplaces', 'BsmtFinSF1', 'LotFrontage', 'WoodDeckSF', '2ndFlrSF', 'OpenPorchSF']]"
   ]
  },
  {
   "cell_type": "code",
   "execution_count": 29,
   "id": "fb1a2c80",
   "metadata": {},
   "outputs": [],
   "source": [
    "test_features = poly_converter.transform(df_test)"
   ]
  },
  {
   "cell_type": "code",
   "execution_count": 30,
   "id": "ac60904f",
   "metadata": {},
   "outputs": [],
   "source": [
    "scaled_test = scaler.transform(test_features)"
   ]
  },
  {
   "cell_type": "code",
   "execution_count": 31,
   "id": "ee788eb3",
   "metadata": {},
   "outputs": [],
   "source": [
    "final_predictions = ridge_cv_model.predict(scaled_test)"
   ]
  },
  {
   "cell_type": "code",
   "execution_count": 32,
   "id": "3000670a",
   "metadata": {},
   "outputs": [
    {
     "data": {
      "text/plain": [
       "array([124911.20878348, 142266.11457522, 185052.17834914, ...,\n",
       "       192437.20441689, 118019.58151784, 238507.70883921])"
      ]
     },
     "execution_count": 32,
     "metadata": {},
     "output_type": "execute_result"
    }
   ],
   "source": [
    "final_predictions"
   ]
  },
  {
   "cell_type": "code",
   "execution_count": 33,
   "id": "7cd62d1e",
   "metadata": {},
   "outputs": [],
   "source": [
    "final_ridge = pd.concat([pd.read_csv('test.csv')['Id'],pd.DataFrame(final_predictions)], axis=1)"
   ]
  },
  {
   "cell_type": "code",
   "execution_count": 34,
   "id": "92af6a32",
   "metadata": {},
   "outputs": [],
   "source": [
    "final_ridge.columns = ['Id', 'SalePrice']"
   ]
  },
  {
   "cell_type": "code",
   "execution_count": 35,
   "id": "98a2a299",
   "metadata": {},
   "outputs": [],
   "source": [
    "final_ridge.to_csv('RidgeSubmission.csv')"
   ]
  },
  {
   "cell_type": "code",
   "execution_count": 36,
   "id": "12e85d4f",
   "metadata": {},
   "outputs": [],
   "source": [
    "# We can also try ElasticNet"
   ]
  },
  {
   "cell_type": "code",
   "execution_count": 37,
   "id": "843d1688",
   "metadata": {},
   "outputs": [],
   "source": [
    "from sklearn.linear_model import ElasticNetCV"
   ]
  },
  {
   "cell_type": "code",
   "execution_count": 47,
   "id": "aebb5333",
   "metadata": {},
   "outputs": [],
   "source": [
    "elastic_model = ElasticNetCV(l1_ratio=[.1, .5, .7, .9, .95, .99, 1], eps=0.001, n_alphas=1000, max_iter=1000000)"
   ]
  },
  {
   "cell_type": "code",
   "execution_count": 48,
   "id": "80e6d385",
   "metadata": {},
   "outputs": [
    {
     "data": {
      "text/plain": [
       "ElasticNetCV(l1_ratio=[0.1, 0.5, 0.7, 0.9, 0.95, 0.99, 1], max_iter=1000000,\n",
       "             n_alphas=1000)"
      ]
     },
     "execution_count": 48,
     "metadata": {},
     "output_type": "execute_result"
    }
   ],
   "source": [
    "elastic_model.fit(X_train, y_train)"
   ]
  },
  {
   "cell_type": "code",
   "execution_count": 49,
   "id": "f0fb602e",
   "metadata": {},
   "outputs": [
    {
     "data": {
      "text/plain": [
       "5866.868346200209"
      ]
     },
     "execution_count": 49,
     "metadata": {},
     "output_type": "execute_result"
    }
   ],
   "source": [
    "elastic_model.alpha_"
   ]
  },
  {
   "cell_type": "code",
   "execution_count": 50,
   "id": "c1e0b4a0",
   "metadata": {},
   "outputs": [],
   "source": [
    "elastic_predictions = elastic_model.predict(X_test)"
   ]
  },
  {
   "cell_type": "code",
   "execution_count": 51,
   "id": "1c7a9e57",
   "metadata": {},
   "outputs": [
    {
     "data": {
      "text/plain": [
       "21176.43204953221"
      ]
     },
     "execution_count": 51,
     "metadata": {},
     "output_type": "execute_result"
    }
   ],
   "source": [
    "mae = mean_absolute_error(y_test, elastic_predictions)\n",
    "mae"
   ]
  },
  {
   "cell_type": "code",
   "execution_count": 52,
   "id": "f1024835",
   "metadata": {},
   "outputs": [
    {
     "data": {
      "text/plain": [
       "45150.653871846065"
      ]
     },
     "execution_count": 52,
     "metadata": {},
     "output_type": "execute_result"
    }
   ],
   "source": [
    "rmse = np.sqrt(mean_squared_error(y_test, elastic_predictions))\n",
    "rmse"
   ]
  },
  {
   "cell_type": "code",
   "execution_count": 46,
   "id": "bd8195b7",
   "metadata": {},
   "outputs": [],
   "source": [
    "# Elastic performed worse than Ridge"
   ]
  },
  {
   "cell_type": "code",
   "execution_count": null,
   "id": "a6dafcb6",
   "metadata": {},
   "outputs": [],
   "source": []
  }
 ],
 "metadata": {
  "kernelspec": {
   "display_name": "Python 3 (ipykernel)",
   "language": "python",
   "name": "python3"
  },
  "language_info": {
   "codemirror_mode": {
    "name": "ipython",
    "version": 3
   },
   "file_extension": ".py",
   "mimetype": "text/x-python",
   "name": "python",
   "nbconvert_exporter": "python",
   "pygments_lexer": "ipython3",
   "version": "3.9.7"
  }
 },
 "nbformat": 4,
 "nbformat_minor": 5
}
