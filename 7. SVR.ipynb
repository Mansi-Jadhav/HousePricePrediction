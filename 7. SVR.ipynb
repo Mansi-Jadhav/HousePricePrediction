{
 "cells": [
  {
   "cell_type": "code",
   "execution_count": 1,
   "id": "4b58d639",
   "metadata": {},
   "outputs": [],
   "source": [
    "import numpy as np\n",
    "import pandas as pd\n",
    "import matplotlib.pyplot as plt\n",
    "import seaborn as sns"
   ]
  },
  {
   "cell_type": "code",
   "execution_count": 3,
   "id": "1a35eb49",
   "metadata": {},
   "outputs": [],
   "source": [
    "X = pd.read_csv('train_dummies.csv')\n",
    "y = pd.read_csv('train.csv')['SalePrice']"
   ]
  },
  {
   "cell_type": "code",
   "execution_count": 4,
   "id": "464da6b3",
   "metadata": {},
   "outputs": [],
   "source": [
    "from sklearn.model_selection import train_test_split\n",
    "X_train,X_test,y_train,y_test = train_test_split(X, y, test_size=0.3, random_state=101)"
   ]
  },
  {
   "cell_type": "code",
   "execution_count": 5,
   "id": "81daf76a",
   "metadata": {},
   "outputs": [],
   "source": [
    "from sklearn.preprocessing import StandardScaler\n",
    "scaler = StandardScaler()\n",
    "scaler.fit(X_train)\n",
    "X_train = scaler.transform(X_train)\n",
    "X_test = scaler.transform(X_test)"
   ]
  },
  {
   "cell_type": "code",
   "execution_count": 6,
   "id": "fdf1492c",
   "metadata": {},
   "outputs": [],
   "source": [
    "from sklearn.svm import SVR\n",
    "base_model = SVR()"
   ]
  },
  {
   "cell_type": "code",
   "execution_count": 7,
   "id": "683d4744",
   "metadata": {},
   "outputs": [
    {
     "data": {
      "text/plain": [
       "SVR()"
      ]
     },
     "execution_count": 7,
     "metadata": {},
     "output_type": "execute_result"
    }
   ],
   "source": [
    "base_model.fit(X_train, y_train)"
   ]
  },
  {
   "cell_type": "code",
   "execution_count": 8,
   "id": "57340b19",
   "metadata": {},
   "outputs": [],
   "source": [
    "base_preds = base_model.predict(X_test)"
   ]
  },
  {
   "cell_type": "code",
   "execution_count": 9,
   "id": "19bcbda3",
   "metadata": {},
   "outputs": [],
   "source": [
    "from sklearn.metrics import mean_absolute_error, mean_squared_error"
   ]
  },
  {
   "cell_type": "code",
   "execution_count": 10,
   "id": "7667f7c1",
   "metadata": {},
   "outputs": [
    {
     "data": {
      "text/plain": [
       "54962.067737780344"
      ]
     },
     "execution_count": 10,
     "metadata": {},
     "output_type": "execute_result"
    }
   ],
   "source": [
    "mae = mean_absolute_error(y_test, base_preds)\n",
    "mae"
   ]
  },
  {
   "cell_type": "code",
   "execution_count": 12,
   "id": "4011dbb4",
   "metadata": {},
   "outputs": [
    {
     "data": {
      "text/plain": [
       "80725.55858424804"
      ]
     },
     "execution_count": 12,
     "metadata": {},
     "output_type": "execute_result"
    }
   ],
   "source": [
    "rmse = np.sqrt(mean_squared_error(y_test, base_preds))\n",
    "rmse"
   ]
  },
  {
   "cell_type": "code",
   "execution_count": 13,
   "id": "9f8092e9",
   "metadata": {},
   "outputs": [],
   "source": [
    "from sklearn.model_selection import GridSearchCV"
   ]
  },
  {
   "cell_type": "code",
   "execution_count": 14,
   "id": "a08210a7",
   "metadata": {},
   "outputs": [],
   "source": [
    "param_grid = {'C': [0.001,0.01,0.1,0.5,1], 'kernel': ['linear','rbf','poly'], 'gamma': ['scale', 'auto'], \n",
    "             'degree': [2,3,4], 'epsilon': [0,0.01,0.1,0.5,1,2]}"
   ]
  },
  {
   "cell_type": "code",
   "execution_count": 15,
   "id": "4c987b56",
   "metadata": {},
   "outputs": [],
   "source": [
    "svr = SVR()"
   ]
  },
  {
   "cell_type": "code",
   "execution_count": 16,
   "id": "f63e0900",
   "metadata": {},
   "outputs": [],
   "source": [
    "grid = GridSearchCV(svr, param_grid)"
   ]
  },
  {
   "cell_type": "code",
   "execution_count": 17,
   "id": "2f0e90e6",
   "metadata": {},
   "outputs": [
    {
     "data": {
      "text/plain": [
       "GridSearchCV(estimator=SVR(),\n",
       "             param_grid={'C': [0.001, 0.01, 0.1, 0.5, 1], 'degree': [2, 3, 4],\n",
       "                         'epsilon': [0, 0.01, 0.1, 0.5, 1, 2],\n",
       "                         'gamma': ['scale', 'auto'],\n",
       "                         'kernel': ['linear', 'rbf', 'poly']})"
      ]
     },
     "execution_count": 17,
     "metadata": {},
     "output_type": "execute_result"
    }
   ],
   "source": [
    "grid.fit(X_train, y_train)"
   ]
  },
  {
   "cell_type": "code",
   "execution_count": 18,
   "id": "76baef9d",
   "metadata": {},
   "outputs": [],
   "source": [
    "svr_preds = grid.predict(X_test)"
   ]
  },
  {
   "cell_type": "code",
   "execution_count": 21,
   "id": "254a9f44",
   "metadata": {},
   "outputs": [
    {
     "data": {
      "text/plain": [
       "45471.67604320109"
      ]
     },
     "execution_count": 21,
     "metadata": {},
     "output_type": "execute_result"
    }
   ],
   "source": [
    "mae = mean_absolute_error(y_test, svr_preds)\n",
    "mae"
   ]
  },
  {
   "cell_type": "code",
   "execution_count": 22,
   "id": "35395d3d",
   "metadata": {},
   "outputs": [
    {
     "data": {
      "text/plain": [
       "71459.38384766823"
      ]
     },
     "execution_count": 22,
     "metadata": {},
     "output_type": "execute_result"
    }
   ],
   "source": [
    "rmse = np.sqrt(mean_squared_error(y_test, svr_preds))\n",
    "rmse"
   ]
  },
  {
   "cell_type": "code",
   "execution_count": 23,
   "id": "224b7ae7",
   "metadata": {},
   "outputs": [],
   "source": [
    "final_test = pd.read_csv('test_dummies.csv')"
   ]
  },
  {
   "cell_type": "code",
   "execution_count": 27,
   "id": "886f0f50",
   "metadata": {},
   "outputs": [],
   "source": [
    "final_test = scaler.transform(final_test)"
   ]
  },
  {
   "cell_type": "code",
   "execution_count": 28,
   "id": "3c186f34",
   "metadata": {},
   "outputs": [],
   "source": [
    "final_preds = grid.predict(final_test)"
   ]
  },
  {
   "cell_type": "code",
   "execution_count": 29,
   "id": "c75403c3",
   "metadata": {},
   "outputs": [
    {
     "data": {
      "text/plain": [
       "array([110402.92261792, 123238.89168535, 146519.63787693, ...,\n",
       "       119490.59941977,  89982.10610647, 140418.82005824])"
      ]
     },
     "execution_count": 29,
     "metadata": {},
     "output_type": "execute_result"
    }
   ],
   "source": [
    "final_preds"
   ]
  },
  {
   "cell_type": "code",
   "execution_count": 30,
   "id": "21e3f6b6",
   "metadata": {},
   "outputs": [],
   "source": [
    "submission = pd.concat([pd.read_csv('test.csv')['Id'],pd.DataFrame(final_preds)], axis=1)\n",
    "submission.columns = ['Id', 'SalePrice']"
   ]
  },
  {
   "cell_type": "code",
   "execution_count": 31,
   "id": "457723ff",
   "metadata": {},
   "outputs": [],
   "source": [
    "submission.to_csv('SVRsubmission.csv', index=False)"
   ]
  },
  {
   "cell_type": "code",
   "execution_count": null,
   "id": "6e17ef9d",
   "metadata": {},
   "outputs": [],
   "source": []
  }
 ],
 "metadata": {
  "kernelspec": {
   "display_name": "Python 3 (ipykernel)",
   "language": "python",
   "name": "python3"
  },
  "language_info": {
   "codemirror_mode": {
    "name": "ipython",
    "version": 3
   },
   "file_extension": ".py",
   "mimetype": "text/x-python",
   "name": "python",
   "nbconvert_exporter": "python",
   "pygments_lexer": "ipython3",
   "version": "3.9.7"
  }
 },
 "nbformat": 4,
 "nbformat_minor": 5
}
