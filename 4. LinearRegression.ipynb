{
 "cells": [
  {
   "cell_type": "code",
   "execution_count": 1,
   "id": "5aa8afa6",
   "metadata": {},
   "outputs": [],
   "source": [
    "# Linear Regression"
   ]
  },
  {
   "cell_type": "code",
   "execution_count": 18,
   "id": "e329696a",
   "metadata": {},
   "outputs": [],
   "source": [
    "import numpy as np\n",
    "import pandas as pd\n",
    "import matplotlib.pyplot as plt\n",
    "import seaborn as sns"
   ]
  },
  {
   "cell_type": "code",
   "execution_count": 19,
   "id": "c6e263a0",
   "metadata": {},
   "outputs": [],
   "source": [
    "X = pd.read_csv('train_dummies.csv')"
   ]
  },
  {
   "cell_type": "code",
   "execution_count": 20,
   "id": "e46dd693",
   "metadata": {},
   "outputs": [],
   "source": [
    "y = pd.read_csv('train.csv')['SalePrice']"
   ]
  },
  {
   "cell_type": "code",
   "execution_count": 21,
   "id": "4baa1987",
   "metadata": {},
   "outputs": [],
   "source": [
    "from sklearn.model_selection import train_test_split\n",
    "X_train,X_test,y_train,y_test = train_test_split(X, y, test_size=0.3, random_state=101)"
   ]
  },
  {
   "cell_type": "code",
   "execution_count": 22,
   "id": "7edda32d",
   "metadata": {},
   "outputs": [],
   "source": [
    "from sklearn.linear_model import LinearRegression\n",
    "linear_model = LinearRegression()"
   ]
  },
  {
   "cell_type": "code",
   "execution_count": 23,
   "id": "c824bf41",
   "metadata": {},
   "outputs": [
    {
     "data": {
      "text/plain": [
       "LinearRegression()"
      ]
     },
     "execution_count": 23,
     "metadata": {},
     "output_type": "execute_result"
    }
   ],
   "source": [
    "linear_model.fit(X_train,y_train)"
   ]
  },
  {
   "cell_type": "code",
   "execution_count": 24,
   "id": "3051363c",
   "metadata": {},
   "outputs": [],
   "source": [
    "lr_preds = linear_model.predict(X_test)"
   ]
  },
  {
   "cell_type": "code",
   "execution_count": 25,
   "id": "743e0b30",
   "metadata": {},
   "outputs": [],
   "source": [
    "from sklearn.metrics import mean_absolute_error, mean_squared_error"
   ]
  },
  {
   "cell_type": "code",
   "execution_count": 26,
   "id": "97edc3a1",
   "metadata": {},
   "outputs": [
    {
     "name": "stdout",
     "output_type": "stream",
     "text": [
      "18702.33816365663\n"
     ]
    }
   ],
   "source": [
    "mae = mean_absolute_error(y_test, lr_preds)\n",
    "print(mae)"
   ]
  },
  {
   "cell_type": "code",
   "execution_count": 27,
   "id": "af097a34",
   "metadata": {},
   "outputs": [
    {
     "name": "stdout",
     "output_type": "stream",
     "text": [
      "41292.90187594092\n"
     ]
    }
   ],
   "source": [
    "rmse = np.sqrt(mean_squared_error(y_test, lr_preds))\n",
    "print(rmse)"
   ]
  },
  {
   "cell_type": "code",
   "execution_count": 28,
   "id": "4da07c8d",
   "metadata": {},
   "outputs": [],
   "source": [
    "# Let's import main test date\n",
    "final_test = pd.read_csv('test_dummies.csv')"
   ]
  },
  {
   "cell_type": "code",
   "execution_count": 30,
   "id": "ca45a9dd",
   "metadata": {},
   "outputs": [],
   "source": [
    "final_lr = linear_model.predict(final_test)"
   ]
  },
  {
   "cell_type": "code",
   "execution_count": 31,
   "id": "e3332924",
   "metadata": {},
   "outputs": [
    {
     "data": {
      "text/plain": [
       "array([140794.72124483, 156098.66552399, 191694.53221419, ...,\n",
       "       176570.93611781, 105721.21370401, 225395.18627267])"
      ]
     },
     "execution_count": 31,
     "metadata": {},
     "output_type": "execute_result"
    }
   ],
   "source": [
    "final_lr"
   ]
  },
  {
   "cell_type": "code",
   "execution_count": 37,
   "id": "042c296f",
   "metadata": {},
   "outputs": [],
   "source": [
    "submission = pd.concat([pd.read_csv('test.csv')['Id'],pd.DataFrame(final_lr)], axis=1)\n",
    "submission.columns = ['Id', 'SalePrice']"
   ]
  },
  {
   "cell_type": "code",
   "execution_count": 38,
   "id": "66f75c55",
   "metadata": {},
   "outputs": [],
   "source": [
    "submission.to_csv('LRsubmission.csv', index=False)"
   ]
  },
  {
   "cell_type": "code",
   "execution_count": null,
   "id": "409933a9",
   "metadata": {},
   "outputs": [],
   "source": []
  }
 ],
 "metadata": {
  "kernelspec": {
   "display_name": "Python 3 (ipykernel)",
   "language": "python",
   "name": "python3"
  },
  "language_info": {
   "codemirror_mode": {
    "name": "ipython",
    "version": 3
   },
   "file_extension": ".py",
   "mimetype": "text/x-python",
   "name": "python",
   "nbconvert_exporter": "python",
   "pygments_lexer": "ipython3",
   "version": "3.9.7"
  }
 },
 "nbformat": 4,
 "nbformat_minor": 5
}
