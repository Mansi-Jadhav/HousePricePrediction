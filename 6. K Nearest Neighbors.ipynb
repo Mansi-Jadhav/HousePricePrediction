{
 "cells": [
  {
   "cell_type": "code",
   "execution_count": 101,
   "id": "26a7a509",
   "metadata": {},
   "outputs": [],
   "source": [
    "import numpy as np\n",
    "import pandas as pd\n",
    "import matplotlib.pyplot as plt\n",
    "import seaborn as sns"
   ]
  },
  {
   "cell_type": "code",
   "execution_count": 102,
   "id": "339831df",
   "metadata": {},
   "outputs": [],
   "source": [
    "X = pd.read_csv('train_dummies.csv')\n",
    "y = pd.read_csv('train.csv')['SalePrice']"
   ]
  },
  {
   "cell_type": "code",
   "execution_count": 103,
   "id": "6fae9121",
   "metadata": {},
   "outputs": [],
   "source": [
    "from sklearn.model_selection import train_test_split"
   ]
  },
  {
   "cell_type": "code",
   "execution_count": 104,
   "id": "311f5751",
   "metadata": {},
   "outputs": [],
   "source": [
    "X_train,X_test,y_train,y_test = train_test_split(X,y,test_size=0.3, random_state=101)"
   ]
  },
  {
   "cell_type": "code",
   "execution_count": 105,
   "id": "e2532404",
   "metadata": {},
   "outputs": [
    {
     "data": {
      "text/plain": [
       "StandardScaler()"
      ]
     },
     "execution_count": 105,
     "metadata": {},
     "output_type": "execute_result"
    }
   ],
   "source": [
    "from sklearn.preprocessing import StandardScaler\n",
    "scaler = StandardScaler()\n",
    "scaler.fit(X_train)"
   ]
  },
  {
   "cell_type": "code",
   "execution_count": 106,
   "id": "bf3317a7",
   "metadata": {},
   "outputs": [],
   "source": [
    "X_train = scaler.transform(X_train)\n",
    "X_test = scaler.transform(X_test)"
   ]
  },
  {
   "cell_type": "code",
   "execution_count": 112,
   "id": "68261a05",
   "metadata": {},
   "outputs": [],
   "source": [
    "from sklearn.neighbors import KNeighborsRegressor\n",
    "from sklearn.metrics import mean_squared_error"
   ]
  },
  {
   "cell_type": "code",
   "execution_count": 113,
   "id": "872b591e",
   "metadata": {},
   "outputs": [],
   "source": [
    "test_errors = []\n",
    "\n",
    "for k in range(1,30):\n",
    "    model = KNeighborsRegressor(n_neighbors=k)\n",
    "    model.fit(X_train,y_train)\n",
    "    preds = model.predict(X_test)\n",
    "    rmse = np.sqrt(mean_squared_error(y_test, preds))\n",
    "    test_errors.append(rmse)\n"
   ]
  },
  {
   "cell_type": "code",
   "execution_count": 114,
   "id": "9c6c35a9",
   "metadata": {},
   "outputs": [
    {
     "data": {
      "text/plain": [
       "[58931.79253590912,\n",
       " 55053.04845442258,\n",
       " 49789.173431407246,\n",
       " 47764.28034361489,\n",
       " 46586.454847811874,\n",
       " 46363.55969986283,\n",
       " 46838.85698545538,\n",
       " 47414.22244736796,\n",
       " 46768.57172376802,\n",
       " 47463.594145756644,\n",
       " 46959.96271889012,\n",
       " 46532.768876698654,\n",
       " 46544.0219748557,\n",
       " 46599.52502766565,\n",
       " 46809.39045612051,\n",
       " 47006.70477871428,\n",
       " 47066.18181615042,\n",
       " 47252.431087581026,\n",
       " 47203.41386144566,\n",
       " 47287.39821129771,\n",
       " 47238.55620621674,\n",
       " 47332.0194315786,\n",
       " 47527.70633012099,\n",
       " 47500.95544334588,\n",
       " 47614.932907348346,\n",
       " 47664.52403594237,\n",
       " 47705.07884660803,\n",
       " 47801.317926000134,\n",
       " 47889.535919581176]"
      ]
     },
     "execution_count": 114,
     "metadata": {},
     "output_type": "execute_result"
    }
   ],
   "source": [
    "test_errors"
   ]
  },
  {
   "cell_type": "code",
   "execution_count": 115,
   "id": "b4110fdb",
   "metadata": {},
   "outputs": [
    {
     "data": {
      "text/plain": [
       "Text(0, 0.5, 'Error Rates')"
      ]
     },
     "execution_count": 115,
     "metadata": {},
     "output_type": "execute_result"
    },
    {
     "data": {
      "image/png": "[encoded data removed]",
      "text/plain": [
       "<Figure size 432x288 with 1 Axes>"
      ]
     },
     "metadata": {
      "needs_background": "light"
     },
     "output_type": "display_data"
    }
   ],
   "source": [
    "plt.plot(range(1,30), test_errors)\n",
    "plt.xlabel('K Neighbors')\n",
    "plt.ylabel('Error Rates')"
   ]
  },
  {
   "cell_type": "code",
   "execution_count": 116,
   "id": "f2ec0902",
   "metadata": {},
   "outputs": [],
   "source": [
    "# Let's say k=6"
   ]
  },
  {
   "cell_type": "code",
   "execution_count": 119,
   "id": "b7528bbf",
   "metadata": {},
   "outputs": [],
   "source": [
    "knn = KNeighborsRegressor(n_neighbors=6)"
   ]
  },
  {
   "cell_type": "code",
   "execution_count": 120,
   "id": "0bd03e9d",
   "metadata": {},
   "outputs": [
    {
     "data": {
      "text/plain": [
       "47889.535919581176"
      ]
     },
     "execution_count": 120,
     "metadata": {},
     "output_type": "execute_result"
    }
   ],
   "source": [
    "knn.fit(X_train,y_train)\n",
    "preds = model.predict(X_test)\n",
    "rmse = np.sqrt(mean_squared_error(y_test, preds))\n",
    "rmse"
   ]
  },
  {
   "cell_type": "code",
   "execution_count": null,
   "id": "86b4e47f",
   "metadata": {},
   "outputs": [],
   "source": [
    "# Even worse"
   ]
  }
 ],
 "metadata": {
  "kernelspec": {
   "display_name": "Python 3 (ipykernel)",
   "language": "python",
   "name": "python3"
  },
  "language_info": {
   "codemirror_mode": {
    "name": "ipython",
    "version": 3
   },
   "file_extension": ".py",
   "mimetype": "text/x-python",
   "name": "python",
   "nbconvert_exporter": "python",
   "pygments_lexer": "ipython3",
   "version": "3.9.7"
  }
 },
 "nbformat": 4,
 "nbformat_minor": 5
}
