{
 "cells": [
  {
   "cell_type": "code",
   "execution_count": 26,
   "id": "f69cb4c5",
   "metadata": {},
   "outputs": [],
   "source": [
    "import numpy as np\n",
    "import pandas as pd\n",
    "import matplotlib.pyplot as plt\n",
    "import seaborn as sns"
   ]
  },
  {
   "cell_type": "code",
   "execution_count": 27,
   "id": "ad6a4dce",
   "metadata": {},
   "outputs": [],
   "source": [
    "X = pd.read_csv('train_dummies.csv')\n",
    "y = pd.read_csv('train.csv')['SalePrice']"
   ]
  },
  {
   "cell_type": "code",
   "execution_count": 28,
   "id": "74ffe1b1",
   "metadata": {},
   "outputs": [],
   "source": [
    "from sklearn.model_selection import train_test_split\n",
    "X_train,X_test,y_train,y_test = train_test_split(X, y, test_size=0.3, random_state=101)"
   ]
  },
  {
   "cell_type": "code",
   "execution_count": 29,
   "id": "5e77e2f7",
   "metadata": {},
   "outputs": [],
   "source": [
    "from sklearn.preprocessing import StandardScaler\n",
    "scaler = StandardScaler()\n",
    "scaler.fit(X_train)\n",
    "X_train = scaler.transform(X_train)\n",
    "X_test = scaler.transform(X_test)"
   ]
  },
  {
   "cell_type": "code",
   "execution_count": 30,
   "id": "565c7a07",
   "metadata": {},
   "outputs": [],
   "source": [
    "from sklearn.tree import DecisionTreeRegressor"
   ]
  },
  {
   "cell_type": "code",
   "execution_count": 31,
   "id": "6501b4eb",
   "metadata": {},
   "outputs": [],
   "source": [
    "model = DecisionTreeRegressor(random_state=101)"
   ]
  },
  {
   "cell_type": "code",
   "execution_count": 32,
   "id": "10828343",
   "metadata": {},
   "outputs": [
    {
     "data": {
      "text/plain": [
       "DecisionTreeRegressor(random_state=101)"
      ]
     },
     "execution_count": 32,
     "metadata": {},
     "output_type": "execute_result"
    }
   ],
   "source": [
    "model.fit(X_train, y_train)"
   ]
  },
  {
   "cell_type": "code",
   "execution_count": 33,
   "id": "9eb107ec",
   "metadata": {},
   "outputs": [],
   "source": [
    "dc_preds = model.predict(X_test)"
   ]
  },
  {
   "cell_type": "code",
   "execution_count": 34,
   "id": "e6290add",
   "metadata": {},
   "outputs": [],
   "source": [
    "from sklearn.metrics import mean_absolute_error, mean_squared_error"
   ]
  },
  {
   "cell_type": "code",
   "execution_count": 35,
   "id": "f544c8f1",
   "metadata": {},
   "outputs": [
    {
     "data": {
      "text/plain": [
       "26210.534246575342"
      ]
     },
     "execution_count": 35,
     "metadata": {},
     "output_type": "execute_result"
    }
   ],
   "source": [
    "mae = mean_absolute_error(y_test, dc_preds)\n",
    "mae"
   ]
  },
  {
   "cell_type": "code",
   "execution_count": 36,
   "id": "f75d2a2a",
   "metadata": {},
   "outputs": [
    {
     "data": {
      "text/plain": [
       "41893.77221319586"
      ]
     },
     "execution_count": 36,
     "metadata": {},
     "output_type": "execute_result"
    }
   ],
   "source": [
    "rmse = np.sqrt(mean_squared_error(y_test, dc_preds))\n",
    "rmse"
   ]
  },
  {
   "cell_type": "code",
   "execution_count": 37,
   "id": "4d94cf0b",
   "metadata": {},
   "outputs": [],
   "source": [
    "final_test = pd.read_csv('test_dummies.csv')\n",
    "final_test = scaler.transform(final_test)"
   ]
  },
  {
   "cell_type": "code",
   "execution_count": 38,
   "id": "159a8f3f",
   "metadata": {},
   "outputs": [],
   "source": [
    "final_preds = model.predict(final_test)"
   ]
  },
  {
   "cell_type": "code",
   "execution_count": 39,
   "id": "fea0dd62",
   "metadata": {},
   "outputs": [
    {
     "data": {
      "text/plain": [
       "array([125000., 157000., 244000., ..., 170000., 105000., 239000.])"
      ]
     },
     "execution_count": 39,
     "metadata": {},
     "output_type": "execute_result"
    }
   ],
   "source": [
    "final_preds"
   ]
  },
  {
   "cell_type": "code",
   "execution_count": 40,
   "id": "c6719967",
   "metadata": {},
   "outputs": [],
   "source": [
    "submission = pd.concat([pd.read_csv('test.csv')['Id'],pd.DataFrame(final_preds)], axis=1)\n",
    "submission.columns = ['Id', 'SalePrice']"
   ]
  },
  {
   "cell_type": "code",
   "execution_count": 41,
   "id": "d3a74e96",
   "metadata": {},
   "outputs": [],
   "source": [
    "submission.to_csv('DTsubmission.csv', index=False)"
   ]
  },
  {
   "cell_type": "code",
   "execution_count": 42,
   "id": "6929c3f3",
   "metadata": {},
   "outputs": [],
   "source": [
    "from sklearn.ensemble import RandomForestRegressor"
   ]
  },
  {
   "cell_type": "code",
   "execution_count": 43,
   "id": "67a45a18",
   "metadata": {},
   "outputs": [],
   "source": [
    "rf_model = RandomForestRegressor(random_state=101)"
   ]
  },
  {
   "cell_type": "code",
   "execution_count": 44,
   "id": "9cb5f40c",
   "metadata": {},
   "outputs": [
    {
     "data": {
      "text/plain": [
       "RandomForestRegressor(random_state=101)"
      ]
     },
     "execution_count": 44,
     "metadata": {},
     "output_type": "execute_result"
    }
   ],
   "source": [
    "rf_model.fit(X_train, y_train)"
   ]
  },
  {
   "cell_type": "code",
   "execution_count": 45,
   "id": "02ba6072",
   "metadata": {},
   "outputs": [],
   "source": [
    "rf_preds = rf_model.predict(X_test)"
   ]
  },
  {
   "cell_type": "code",
   "execution_count": 46,
   "id": "08387df1",
   "metadata": {},
   "outputs": [
    {
     "data": {
      "text/plain": [
       "18125.05694063927"
      ]
     },
     "execution_count": 46,
     "metadata": {},
     "output_type": "execute_result"
    }
   ],
   "source": [
    "mae = mean_absolute_error(y_test, rf_preds)\n",
    "mae"
   ]
  },
  {
   "cell_type": "code",
   "execution_count": 47,
   "id": "5f16557a",
   "metadata": {},
   "outputs": [
    {
     "data": {
      "text/plain": [
       "31377.891837036103"
      ]
     },
     "execution_count": 47,
     "metadata": {},
     "output_type": "execute_result"
    }
   ],
   "source": [
    "rmse = np.sqrt(mean_squared_error(y_test, rf_preds))\n",
    "rmse"
   ]
  },
  {
   "cell_type": "code",
   "execution_count": 48,
   "id": "28327074",
   "metadata": {},
   "outputs": [],
   "source": [
    "final_rf_preds = rf_model.predict(final_test)"
   ]
  },
  {
   "cell_type": "code",
   "execution_count": 49,
   "id": "f3a63f79",
   "metadata": {},
   "outputs": [
    {
     "data": {
      "text/plain": [
       "array([125076.58, 159137.36, 173013.02, ..., 156265.61, 118075.82,\n",
       "       224687.49])"
      ]
     },
     "execution_count": 49,
     "metadata": {},
     "output_type": "execute_result"
    }
   ],
   "source": [
    "final_rf_preds"
   ]
  },
  {
   "cell_type": "code",
   "execution_count": 50,
   "id": "f22e6803",
   "metadata": {},
   "outputs": [],
   "source": [
    "submission = pd.concat([pd.read_csv('test.csv')['Id'],pd.DataFrame(final_rf_preds)], axis=1)\n",
    "submission.columns = ['Id', 'SalePrice']"
   ]
  },
  {
   "cell_type": "code",
   "execution_count": 51,
   "id": "defb5a76",
   "metadata": {},
   "outputs": [],
   "source": [
    "submission.to_csv('RFsubmission.csv', index=False)"
   ]
  },
  {
   "cell_type": "code",
   "execution_count": 52,
   "id": "43e4d840",
   "metadata": {},
   "outputs": [],
   "source": [
    "# Gradient Boost Regressor"
   ]
  },
  {
   "cell_type": "code",
   "execution_count": 55,
   "id": "901f5a05",
   "metadata": {},
   "outputs": [],
   "source": [
    "from sklearn.ensemble import GradientBoostingRegressor, AdaBoostRegressor\n",
    "gb_model = GradientBoostingRegressor(random_state=101)"
   ]
  },
  {
   "cell_type": "code",
   "execution_count": 56,
   "id": "bb055be1",
   "metadata": {},
   "outputs": [
    {
     "data": {
      "text/plain": [
       "GradientBoostingRegressor(random_state=101)"
      ]
     },
     "execution_count": 56,
     "metadata": {},
     "output_type": "execute_result"
    }
   ],
   "source": [
    "gb_model.fit(X_train, y_train)"
   ]
  },
  {
   "cell_type": "code",
   "execution_count": 57,
   "id": "c95c684b",
   "metadata": {},
   "outputs": [],
   "source": [
    "gb_preds = gb_model.predict(X_test)"
   ]
  },
  {
   "cell_type": "code",
   "execution_count": 58,
   "id": "37eb4df2",
   "metadata": {},
   "outputs": [
    {
     "data": {
      "text/plain": [
       "15911.296644155162"
      ]
     },
     "execution_count": 58,
     "metadata": {},
     "output_type": "execute_result"
    }
   ],
   "source": [
    "mae = mean_absolute_error(y_test, gb_preds)\n",
    "mae"
   ]
  },
  {
   "cell_type": "code",
   "execution_count": 59,
   "id": "f880dc34",
   "metadata": {},
   "outputs": [
    {
     "data": {
      "text/plain": [
       "25210.512806014012"
      ]
     },
     "execution_count": 59,
     "metadata": {},
     "output_type": "execute_result"
    }
   ],
   "source": [
    "rmse = np.sqrt(mean_squared_error(y_test, gb_preds))\n",
    "rmse"
   ]
  },
  {
   "cell_type": "code",
   "execution_count": 60,
   "id": "2a991514",
   "metadata": {},
   "outputs": [],
   "source": [
    "final_gb_preds = gb_model.predict(final_test)"
   ]
  },
  {
   "cell_type": "code",
   "execution_count": 61,
   "id": "a075c615",
   "metadata": {},
   "outputs": [
    {
     "data": {
      "text/plain": [
       "array([123725.8807463 , 169417.55715804, 172964.10941208, ...,\n",
       "       163193.50212099, 124583.36899196, 236961.18592733])"
      ]
     },
     "execution_count": 61,
     "metadata": {},
     "output_type": "execute_result"
    }
   ],
   "source": [
    "final_gb_preds"
   ]
  },
  {
   "cell_type": "code",
   "execution_count": 62,
   "id": "3a0001a5",
   "metadata": {},
   "outputs": [],
   "source": [
    "submission = pd.concat([pd.read_csv('test.csv')['Id'],pd.DataFrame(final_gb_preds)], axis=1)\n",
    "submission.columns = ['Id', 'SalePrice']"
   ]
  },
  {
   "cell_type": "code",
   "execution_count": 63,
   "id": "4c09f8ad",
   "metadata": {},
   "outputs": [],
   "source": [
    "submission.to_csv('GBsubmission.csv', index=False)"
   ]
  },
  {
   "cell_type": "code",
   "execution_count": 67,
   "id": "3f23d351",
   "metadata": {},
   "outputs": [],
   "source": [
    "ada_model = AdaBoostRegressor(random_state=101)\n",
    "ada_model.fit(X_train, y_train)\n",
    "ada_preds = ada_model.predict(X_test)"
   ]
  },
  {
   "cell_type": "code",
   "execution_count": 68,
   "id": "c5082f1f",
   "metadata": {},
   "outputs": [
    {
     "data": {
      "text/plain": [
       "24094.587333382326"
      ]
     },
     "execution_count": 68,
     "metadata": {},
     "output_type": "execute_result"
    }
   ],
   "source": [
    "mae = mean_absolute_error(y_test, ada_preds)\n",
    "mae"
   ]
  },
  {
   "cell_type": "code",
   "execution_count": 69,
   "id": "c9ef4684",
   "metadata": {},
   "outputs": [
    {
     "data": {
      "text/plain": [
       "35821.59520120602"
      ]
     },
     "execution_count": 69,
     "metadata": {},
     "output_type": "execute_result"
    }
   ],
   "source": [
    "rmse = np.sqrt(mean_squared_error(y_test, ada_preds))\n",
    "rmse"
   ]
  },
  {
   "cell_type": "code",
   "execution_count": 70,
   "id": "1fe57480",
   "metadata": {},
   "outputs": [],
   "source": [
    "final_ada_preds = ada_model.predict(final_test)"
   ]
  },
  {
   "cell_type": "code",
   "execution_count": 71,
   "id": "4882664e",
   "metadata": {},
   "outputs": [],
   "source": [
    "submission = pd.concat([pd.read_csv('test.csv')['Id'],pd.DataFrame(final_ada_preds)], axis=1)\n",
    "submission.columns = ['Id', 'SalePrice']"
   ]
  },
  {
   "cell_type": "code",
   "execution_count": 72,
   "id": "2d41a844",
   "metadata": {},
   "outputs": [],
   "source": [
    "submission.to_csv('ADAsubmission.csv', index=False)"
   ]
  },
  {
   "cell_type": "code",
   "execution_count": null,
   "id": "ee8bef2b",
   "metadata": {},
   "outputs": [],
   "source": []
  },
  {
   "cell_type": "code",
   "execution_count": null,
   "id": "a5a51be4",
   "metadata": {},
   "outputs": [],
   "source": []
  }
 ],
 "metadata": {
  "kernelspec": {
   "display_name": "Python 3 (ipykernel)",
   "language": "python",
   "name": "python3"
  },
  "language_info": {
   "codemirror_mode": {
    "name": "ipython",
    "version": 3
   },
   "file_extension": ".py",
   "mimetype": "text/x-python",
   "name": "python",
   "nbconvert_exporter": "python",
   "pygments_lexer": "ipython3",
   "version": "3.9.7"
  }
 },
 "nbformat": 4,
 "nbformat_minor": 5
}
